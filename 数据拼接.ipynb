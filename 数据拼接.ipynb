{
 "cells": [
  {
   "cell_type": "code",
   "execution_count": 3,
   "metadata": {},
   "outputs": [
    {
     "data": {
      "text/plain": [
       "'\\n1.数据拼接\\n在活动的EXCEL工作簿中现有两张EXCEL表，Sheet1的内容如下：\\n股票代码\\t市价\\nGGBY\\t25\\nFRHY\\t17\\nJKLA\\t9\\nUIOE\\t30\\n\\tSheet2的内容如下：\\n股票代码\\t成交量\\nGGBY20\\t1542000\\nUIOE453\\t3256700\\nYUEN277\\t547800\\n已知股票代码前四位相同即为同一支股票，现在新建Sheet3，要求汇总两张表都有记录的股票，并显示其市价和成交量\\n'"
      ]
     },
     "execution_count": 3,
     "metadata": {},
     "output_type": "execute_result"
    }
   ],
   "source": [
    "'''\n",
    "1.数据拼接\n",
    "在活动的EXCEL工作簿中现有两张EXCEL表，Sheet1的内容如下：\n",
    "股票代码\t市价\n",
    "GGBY\t25\n",
    "FRHY\t17\n",
    "JKLA\t9\n",
    "UIOE\t30\n",
    "\tSheet2的内容如下：\n",
    "股票代码\t成交量\n",
    "GGBY20\t1542000\n",
    "UIOE453\t3256700\n",
    "YUEN277\t547800\n",
    "已知股票代码前四位相同即为同一支股票，现在新建Sheet3，要求汇总两张表都有记录的股票，并显示其市价和成交量\n",
    "'''"
   ]
  },
  {
   "cell_type": "code",
   "execution_count": 4,
   "metadata": {},
   "outputs": [],
   "source": [
    "import re, xlrd, xlwt\n",
    "\n",
    "file = xlrd.open_workbook(u'D:\\平安\\shujupinjie.xlsx')\n",
    "table1 = file.sheets()[0]  # sheet1\n",
    "table2 = file.sheets()[1]  # sheet2\n",
    "book = xlwt.Workbook()\n",
    "table3 = book.add_sheet('sheet')\n",
    "\n",
    "table3.write(0, 0, u'股票代码')\n",
    "table3.write(0, 1, u'市价')\n",
    "table3.write(0, 2, u'成交量')\n",
    "\n",
    "def addtolist(prelist):\n",
    "    list = []\n",
    "    for i in range(len(prelist)):\n",
    "        a = prelist[i]\n",
    "        list.append(a)\n",
    "    return list\n",
    "\n",
    "name1 = addtolist(table1.col_values(0))\n",
    "name2 = addtolist(table2.col_values(0))\n",
    "price = addtolist(table1.col_values(1))\n",
    "amount = addtolist(table2.col_values(1))\n",
    "\n",
    "def cut(text, length):\n",
    "    textArr = re.findall('.{' + str(length) + '}', text)\n",
    "    textArr.append(text[(len(textArr) * length):])\n",
    "    return textArr[0]\n",
    "\n",
    "\n",
    "for i in range(1,len(name1)):\n",
    "    table3.write(i, 0, name1[i])\n",
    "    table3.write(i, 1, price[i])\n",
    "    for j in range(1,len(name2)):\n",
    "        if(name1[i] == cut(name2[j],4)):\n",
    "           table3.write(i, 2, amount[j])\n",
    "           amount[j] = 'recorded'\n",
    "\n",
    "k = 0\n",
    "for j in range(1,len(name2)):\n",
    "    if(amount[j] != 'recorded'):\n",
    "        table3.write(len(name1)+k, 0, name2[j])\n",
    "        table3.write(len(name1) + k, 2, amount[j])\n",
    "        k = k+1\n",
    "\n",
    "book.save('pingjie.xls')"
   ]
  },
  {
   "cell_type": "code",
   "execution_count": null,
   "metadata": {},
   "outputs": [],
   "source": []
  }
 ],
 "metadata": {
  "kernelspec": {
   "display_name": "Python 3",
   "language": "python",
   "name": "python3"
  },
  "language_info": {
   "codemirror_mode": {
    "name": "ipython",
    "version": 3
   },
   "file_extension": ".py",
   "mimetype": "text/x-python",
   "name": "python",
   "nbconvert_exporter": "python",
   "pygments_lexer": "ipython3",
   "version": "3.6.5"
  }
 },
 "nbformat": 4,
 "nbformat_minor": 1
}
